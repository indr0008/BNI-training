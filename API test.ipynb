{
 "cells": [
  {
   "cell_type": "code",
   "execution_count": 1,
   "id": "50ed794b",
   "metadata": {},
   "outputs": [],
   "source": [
    "import requests\n",
    "\n"
   ]
  },
  {
   "cell_type": "code",
   "execution_count": 2,
   "id": "67865f07",
   "metadata": {},
   "outputs": [],
   "source": [
    "base_url = 'http://localhost:5000'"
   ]
  },
  {
   "cell_type": "code",
   "execution_count": 17,
   "id": "7a3a90e3",
   "metadata": {},
   "outputs": [],
   "source": [
    "response = requests.get(f'{base_url}/api/balance')"
   ]
  },
  {
   "cell_type": "code",
   "execution_count": 18,
   "id": "e77b7d76",
   "metadata": {},
   "outputs": [
    {
     "data": {
      "text/plain": [
       "<Response [200]>"
      ]
     },
     "execution_count": 18,
     "metadata": {},
     "output_type": "execute_result"
    }
   ],
   "source": [
    "response"
   ]
  },
  {
   "cell_type": "code",
   "execution_count": 19,
   "id": "d2019c77",
   "metadata": {},
   "outputs": [
    {
     "name": "stdout",
     "output_type": "stream",
     "text": [
      "Current Balance: 77100.0\n"
     ]
    }
   ],
   "source": [
    "if response.status_code == 200:\n",
    "    # Parse the JSON response\n",
    "    data = response.json()\n",
    "    balance = data['balance']\n",
    "    print(f'Current Balance: {balance}')\n",
    "else:\n",
    "    print(f'Error: {response.status_code}')\n",
    "    print(response.text)"
   ]
  },
  {
   "cell_type": "code",
   "execution_count": 13,
   "id": "8cc15a26",
   "metadata": {},
   "outputs": [],
   "source": [
    "\n",
    "# Endpoint for deposit\n",
    "endpoint = '/api/deposit'\n"
   ]
  },
  {
   "cell_type": "code",
   "execution_count": 14,
   "id": "d320b71e",
   "metadata": {},
   "outputs": [],
   "source": [
    "# Account details and amount to deposit\n",
    "deposit_data = {\n",
    "    'amount': 100.0\n",
    "}\n",
    "\n"
   ]
  },
  {
   "cell_type": "code",
   "execution_count": 15,
   "id": "abaf5d80",
   "metadata": {},
   "outputs": [],
   "source": [
    "# Make a POST request to the /api/deposit endpoint\n",
    "response = requests.post(base_url + endpoint, data=deposit_data)\n"
   ]
  },
  {
   "cell_type": "code",
   "execution_count": 16,
   "id": "7ce62ec7",
   "metadata": {},
   "outputs": [
    {
     "name": "stdout",
     "output_type": "stream",
     "text": [
      "Money deposited successfully.\n"
     ]
    }
   ],
   "source": [
    "\n",
    "\n",
    "\n",
    "\n",
    "\n",
    "# Check the response status code\n",
    "if response.status_code == 200:\n",
    "    print('Money deposited successfully.')\n",
    "else:\n",
    "    print('Failed to deposit money. Status code:', response.status_code)\n",
    "    print('Response content:', response.text)\n"
   ]
  },
  {
   "cell_type": "code",
   "execution_count": null,
   "id": "53130c5a",
   "metadata": {},
   "outputs": [],
   "source": []
  }
 ],
 "metadata": {
  "kernelspec": {
   "display_name": "Python 3 (ipykernel)",
   "language": "python",
   "name": "python3"
  },
  "language_info": {
   "codemirror_mode": {
    "name": "ipython",
    "version": 3
   },
   "file_extension": ".py",
   "mimetype": "text/x-python",
   "name": "python",
   "nbconvert_exporter": "python",
   "pygments_lexer": "ipython3",
   "version": "3.11.4"
  }
 },
 "nbformat": 4,
 "nbformat_minor": 5
}
